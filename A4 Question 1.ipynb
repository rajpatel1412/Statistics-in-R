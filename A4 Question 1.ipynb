{
 "cells": [
  {
   "cell_type": "markdown",
   "metadata": {},
   "source": [
    "Raj Patel. 301383911"
   ]
  },
  {
   "cell_type": "markdown",
   "metadata": {},
   "source": [
    "Question 1a)"
   ]
  },
  {
   "cell_type": "code",
   "execution_count": 1,
   "metadata": {},
   "outputs": [
    {
     "data": {
      "text/html": [
       "<table>\n",
       "<caption>A data.frame: 6 × 1</caption>\n",
       "<thead>\n",
       "\t<tr><th></th><th scope=col>weight</th></tr>\n",
       "\t<tr><th></th><th scope=col>&lt;int&gt;</th></tr>\n",
       "</thead>\n",
       "<tbody>\n",
       "\t<tr><th scope=row>1</th><td>2773</td></tr>\n",
       "\t<tr><th scope=row>2</th><td>3113</td></tr>\n",
       "\t<tr><th scope=row>3</th><td>2790</td></tr>\n",
       "\t<tr><th scope=row>4</th><td>2908</td></tr>\n",
       "\t<tr><th scope=row>5</th><td>2950</td></tr>\n",
       "\t<tr><th scope=row>6</th><td>2525</td></tr>\n",
       "</tbody>\n",
       "</table>\n"
      ],
      "text/latex": [
       "A data.frame: 6 × 1\n",
       "\\begin{tabular}{r|l}\n",
       "  & weight\\\\\n",
       "  & <int>\\\\\n",
       "\\hline\n",
       "\t1 & 2773\\\\\n",
       "\t2 & 3113\\\\\n",
       "\t3 & 2790\\\\\n",
       "\t4 & 2908\\\\\n",
       "\t5 & 2950\\\\\n",
       "\t6 & 2525\\\\\n",
       "\\end{tabular}\n"
      ],
      "text/markdown": [
       "\n",
       "A data.frame: 6 × 1\n",
       "\n",
       "| <!--/--> | weight &lt;int&gt; |\n",
       "|---|---|\n",
       "| 1 | 2773 |\n",
       "| 2 | 3113 |\n",
       "| 3 | 2790 |\n",
       "| 4 | 2908 |\n",
       "| 5 | 2950 |\n",
       "| 6 | 2525 |\n",
       "\n"
      ],
      "text/plain": [
       "  weight\n",
       "1 2773  \n",
       "2 3113  \n",
       "3 2790  \n",
       "4 2908  \n",
       "5 2950  \n",
       "6 2525  "
      ]
     },
     "metadata": {},
     "output_type": "display_data"
    }
   ],
   "source": [
    "data = read.table(file = \"baby.txt\", header = TRUE)\n",
    "head(data)"
   ]
  },
  {
   "cell_type": "code",
   "execution_count": 5,
   "metadata": {},
   "outputs": [
    {
     "name": "stdout",
     "output_type": "stream",
     "text": [
      "[1] 3192.203\n"
     ]
    }
   ],
   "source": [
    "mean = mean(data$weight)\n",
    "print(mean)"
   ]
  },
  {
   "cell_type": "code",
   "execution_count": 6,
   "metadata": {},
   "outputs": [
    {
     "name": "stdout",
     "output_type": "stream",
     "text": [
      "[1] 367.7412\n"
     ]
    }
   ],
   "source": [
    "samplesd = sd(data$weight)\n",
    "print(samplesd)"
   ]
  },
  {
   "cell_type": "code",
   "execution_count": 10,
   "metadata": {},
   "outputs": [
    {
     "name": "stdout",
     "output_type": "stream",
     "text": [
      "[1] 1.671553\n"
     ]
    }
   ],
   "source": [
    "q = qt(0.95, 58)\n",
    "print(q)"
   ]
  },
  {
   "cell_type": "code",
   "execution_count": 24,
   "metadata": {},
   "outputs": [
    {
     "name": "stdout",
     "output_type": "stream",
     "text": [
      "[1] \"lower limit of 90% confidence interval for mu\"\n",
      "[1] 3112.176\n",
      "[1] \"higher limit of 90% confidence interval for mu\"\n",
      "[1] 3272.23\n"
     ]
    }
   ],
   "source": [
    "n = 59\n",
    "lower = mean - ((q*samplesd)/sqrt(n))\n",
    "higher = mean + ((q*samplesd)/sqrt(n))\n",
    "print(\"lower limit of 90% confidence interval for mu\")\n",
    "print(lower)\n",
    "print(\"higher limit of 90% confidence interval for mu\")\n",
    "print(higher)"
   ]
  },
  {
   "cell_type": "markdown",
   "metadata": {},
   "source": [
    "Question 1d)"
   ]
  },
  {
   "cell_type": "code",
   "execution_count": 25,
   "metadata": {},
   "outputs": [
    {
     "name": "stdout",
     "output_type": "stream",
     "text": [
      "[1] 1.644854\n"
     ]
    }
   ],
   "source": [
    "z = qnorm(0.95)\n",
    "print(z)"
   ]
  },
  {
   "cell_type": "code",
   "execution_count": 26,
   "metadata": {},
   "outputs": [
    {
     "data": {
      "text/html": [
       "604.880497845715"
      ],
      "text/latex": [
       "604.880497845715"
      ],
      "text/markdown": [
       "604.880497845715"
      ],
      "text/plain": [
       "[1] 604.8805"
      ]
     },
     "metadata": {},
     "output_type": "display_data"
    }
   ],
   "source": [
    "z*samplesd"
   ]
  }
 ],
 "metadata": {
  "kernelspec": {
   "display_name": "R",
   "language": "R",
   "name": "ir"
  },
  "language_info": {
   "codemirror_mode": "r",
   "file_extension": ".r",
   "mimetype": "text/x-r-source",
   "name": "R",
   "pygments_lexer": "r",
   "version": "3.6.2"
  }
 },
 "nbformat": 4,
 "nbformat_minor": 4
}
