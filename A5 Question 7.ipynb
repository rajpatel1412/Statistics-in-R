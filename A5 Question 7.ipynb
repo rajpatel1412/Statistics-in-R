{
 "cells": [
  {
   "cell_type": "markdown",
   "metadata": {},
   "source": [
    "Raj Patel . 301383911"
   ]
  },
  {
   "cell_type": "code",
   "execution_count": 2,
   "metadata": {},
   "outputs": [
    {
     "data": {
      "text/html": [
       "<table>\n",
       "<caption>A data.frame: 6 × 2</caption>\n",
       "<thead>\n",
       "\t<tr><th></th><th scope=col>pre</th><th scope=col>post</th></tr>\n",
       "\t<tr><th></th><th scope=col>&lt;int&gt;</th><th scope=col>&lt;int&gt;</th></tr>\n",
       "</thead>\n",
       "<tbody>\n",
       "\t<tr><th scope=row>1</th><td>140</td><td>140</td></tr>\n",
       "\t<tr><th scope=row>2</th><td>149</td><td>148</td></tr>\n",
       "\t<tr><th scope=row>3</th><td>147</td><td>141</td></tr>\n",
       "\t<tr><th scope=row>4</th><td>139</td><td>140</td></tr>\n",
       "\t<tr><th scope=row>5</th><td>150</td><td>152</td></tr>\n",
       "\t<tr><th scope=row>6</th><td>141</td><td>141</td></tr>\n",
       "</tbody>\n",
       "</table>\n"
      ],
      "text/latex": [
       "A data.frame: 6 × 2\n",
       "\\begin{tabular}{r|ll}\n",
       "  & pre & post\\\\\n",
       "  & <int> & <int>\\\\\n",
       "\\hline\n",
       "\t1 & 140 & 140\\\\\n",
       "\t2 & 149 & 148\\\\\n",
       "\t3 & 147 & 141\\\\\n",
       "\t4 & 139 & 140\\\\\n",
       "\t5 & 150 & 152\\\\\n",
       "\t6 & 141 & 141\\\\\n",
       "\\end{tabular}\n"
      ],
      "text/markdown": [
       "\n",
       "A data.frame: 6 × 2\n",
       "\n",
       "| <!--/--> | pre &lt;int&gt; | post &lt;int&gt; |\n",
       "|---|---|---|\n",
       "| 1 | 140 | 140 |\n",
       "| 2 | 149 | 148 |\n",
       "| 3 | 147 | 141 |\n",
       "| 4 | 139 | 140 |\n",
       "| 5 | 150 | 152 |\n",
       "| 6 | 141 | 141 |\n",
       "\n"
      ],
      "text/plain": [
       "  pre post\n",
       "1 140 140 \n",
       "2 149 148 \n",
       "3 147 141 \n",
       "4 139 140 \n",
       "5 150 152 \n",
       "6 141 141 "
      ]
     },
     "metadata": {},
     "output_type": "display_data"
    }
   ],
   "source": [
    "data = read.table(file = \"bp.txt\", header = TRUE)\n",
    "head(data)"
   ]
  },
  {
   "cell_type": "code",
   "execution_count": 3,
   "metadata": {},
   "outputs": [
    {
     "data": {
      "text/html": [
       "<table>\n",
       "<caption>A data.frame: 6 × 3</caption>\n",
       "<thead>\n",
       "\t<tr><th></th><th scope=col>pre</th><th scope=col>post</th><th scope=col>diff</th></tr>\n",
       "\t<tr><th></th><th scope=col>&lt;int&gt;</th><th scope=col>&lt;int&gt;</th><th scope=col>&lt;int&gt;</th></tr>\n",
       "</thead>\n",
       "<tbody>\n",
       "\t<tr><th scope=row>1</th><td>140</td><td>140</td><td> 0</td></tr>\n",
       "\t<tr><th scope=row>2</th><td>149</td><td>148</td><td>-1</td></tr>\n",
       "\t<tr><th scope=row>3</th><td>147</td><td>141</td><td>-6</td></tr>\n",
       "\t<tr><th scope=row>4</th><td>139</td><td>140</td><td> 1</td></tr>\n",
       "\t<tr><th scope=row>5</th><td>150</td><td>152</td><td> 2</td></tr>\n",
       "\t<tr><th scope=row>6</th><td>141</td><td>141</td><td> 0</td></tr>\n",
       "</tbody>\n",
       "</table>\n"
      ],
      "text/latex": [
       "A data.frame: 6 × 3\n",
       "\\begin{tabular}{r|lll}\n",
       "  & pre & post & diff\\\\\n",
       "  & <int> & <int> & <int>\\\\\n",
       "\\hline\n",
       "\t1 & 140 & 140 &  0\\\\\n",
       "\t2 & 149 & 148 & -1\\\\\n",
       "\t3 & 147 & 141 & -6\\\\\n",
       "\t4 & 139 & 140 &  1\\\\\n",
       "\t5 & 150 & 152 &  2\\\\\n",
       "\t6 & 141 & 141 &  0\\\\\n",
       "\\end{tabular}\n"
      ],
      "text/markdown": [
       "\n",
       "A data.frame: 6 × 3\n",
       "\n",
       "| <!--/--> | pre &lt;int&gt; | post &lt;int&gt; | diff &lt;int&gt; |\n",
       "|---|---|---|---|\n",
       "| 1 | 140 | 140 |  0 |\n",
       "| 2 | 149 | 148 | -1 |\n",
       "| 3 | 147 | 141 | -6 |\n",
       "| 4 | 139 | 140 |  1 |\n",
       "| 5 | 150 | 152 |  2 |\n",
       "| 6 | 141 | 141 |  0 |\n",
       "\n"
      ],
      "text/plain": [
       "  pre post diff\n",
       "1 140 140   0  \n",
       "2 149 148  -1  \n",
       "3 147 141  -6  \n",
       "4 139 140   1  \n",
       "5 150 152   2  \n",
       "6 141 141   0  "
      ]
     },
     "metadata": {},
     "output_type": "display_data"
    }
   ],
   "source": [
    "data$diff = data$post - data$pre\n",
    "head(data)"
   ]
  },
  {
   "cell_type": "code",
   "execution_count": 3,
   "metadata": {},
   "outputs": [
    {
     "data": {
      "text/html": [
       "-5.02"
      ],
      "text/latex": [
       "-5.02"
      ],
      "text/markdown": [
       "-5.02"
      ],
      "text/plain": [
       "[1] -5.02"
      ]
     },
     "metadata": {},
     "output_type": "display_data"
    }
   ],
   "source": [
    "mean(data$diff)"
   ]
  },
  {
   "cell_type": "code",
   "execution_count": 4,
   "metadata": {},
   "outputs": [
    {
     "data": {
      "text/html": [
       "5.44203616082782"
      ],
      "text/latex": [
       "5.44203616082782"
      ],
      "text/markdown": [
       "5.44203616082782"
      ],
      "text/plain": [
       "[1] 5.442036"
      ]
     },
     "metadata": {},
     "output_type": "display_data"
    }
   ],
   "source": [
    "sd(data$diff)"
   ]
  },
  {
   "cell_type": "code",
   "execution_count": 8,
   "metadata": {},
   "outputs": [
    {
     "data": {
      "text/html": [
       "1.98421695158642"
      ],
      "text/latex": [
       "1.98421695158642"
      ],
      "text/markdown": [
       "1.98421695158642"
      ],
      "text/plain": [
       "[1] 1.984217"
      ]
     },
     "metadata": {},
     "output_type": "display_data"
    }
   ],
   "source": [
    "qt(0.975,99)"
   ]
  },
  {
   "cell_type": "code",
   "execution_count": 5,
   "metadata": {},
   "outputs": [
    {
     "data": {
      "text/plain": [
       "\n",
       "\tOne Sample t-test\n",
       "\n",
       "data:  data$diff\n",
       "t = -9.2245, df = 99, p-value = 5.377e-15\n",
       "alternative hypothesis: true mean is not equal to 0\n",
       "95 percent confidence interval:\n",
       " -6.099818 -3.940182\n",
       "sample estimates:\n",
       "mean of x \n",
       "    -5.02 \n"
      ]
     },
     "metadata": {},
     "output_type": "display_data"
    }
   ],
   "source": [
    "t.test(data$diff, conf.level = 0.95)"
   ]
  }
 ],
 "metadata": {
  "kernelspec": {
   "display_name": "R",
   "language": "R",
   "name": "ir"
  },
  "language_info": {
   "codemirror_mode": "r",
   "file_extension": ".r",
   "mimetype": "text/x-r-source",
   "name": "R",
   "pygments_lexer": "r",
   "version": "3.6.2"
  }
 },
 "nbformat": 4,
 "nbformat_minor": 4
}
