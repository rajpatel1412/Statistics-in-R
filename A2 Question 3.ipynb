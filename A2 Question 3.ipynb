{
 "cells": [
  {
   "cell_type": "markdown",
   "metadata": {},
   "source": [
    "Raj Patel. 301383911"
   ]
  },
  {
   "cell_type": "code",
   "execution_count": null,
   "metadata": {},
   "outputs": [],
   "source": [
    "Q3) a) The detection rate is the probability of having COVID-19, given that a person tested positively on the test \n",
    "(there is an 80% chance a person has COVID-19 if they tested positive on the test)\n",
    "\n",
    "The false positive rate is the probability of not havinf COVID-19, given that a person tested positively on the test\n",
    "(there is a 0.2% chance a person does not have COVID-19 if they tested positive on the test)"
   ]
  },
  {
   "cell_type": "code",
   "execution_count": null,
   "metadata": {},
   "outputs": [],
   "source": [
    "Q3 b) "
   ]
  }
 ],
 "metadata": {
  "kernelspec": {
   "display_name": "Python 3",
   "language": "python",
   "name": "python3"
  }
 },
 "nbformat": 4,
 "nbformat_minor": 4
}
