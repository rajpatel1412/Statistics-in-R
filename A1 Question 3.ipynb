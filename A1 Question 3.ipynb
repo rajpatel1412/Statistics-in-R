{
 "cells": [
  {
   "cell_type": "markdown",
   "metadata": {},
   "source": [
    "Raj Patel. 301383911"
   ]
  },
  {
   "cell_type": "code",
   "execution_count": 4,
   "metadata": {},
   "outputs": [
    {
     "data": {
      "text/html": [
       "<table>\n",
       "<caption>A data.frame: 6 × 2</caption>\n",
       "<thead>\n",
       "\t<tr><th></th><th scope=col>Sample</th><th scope=col>Number</th></tr>\n",
       "\t<tr><th></th><th scope=col>&lt;int&gt;</th><th scope=col>&lt;int&gt;</th></tr>\n",
       "</thead>\n",
       "<tbody>\n",
       "\t<tr><th scope=row>1</th><td>1</td><td>1</td></tr>\n",
       "\t<tr><th scope=row>2</th><td>2</td><td>3</td></tr>\n",
       "\t<tr><th scope=row>3</th><td>3</td><td>2</td></tr>\n",
       "\t<tr><th scope=row>4</th><td>4</td><td>4</td></tr>\n",
       "\t<tr><th scope=row>5</th><td>5</td><td>4</td></tr>\n",
       "\t<tr><th scope=row>6</th><td>6</td><td>0</td></tr>\n",
       "</tbody>\n",
       "</table>\n"
      ],
      "text/latex": [
       "A data.frame: 6 × 2\n",
       "\\begin{tabular}{r|ll}\n",
       "  & Sample & Number\\\\\n",
       "  & <int> & <int>\\\\\n",
       "\\hline\n",
       "\t1 & 1 & 1\\\\\n",
       "\t2 & 2 & 3\\\\\n",
       "\t3 & 3 & 2\\\\\n",
       "\t4 & 4 & 4\\\\\n",
       "\t5 & 5 & 4\\\\\n",
       "\t6 & 6 & 0\\\\\n",
       "\\end{tabular}\n"
      ],
      "text/markdown": [
       "\n",
       "A data.frame: 6 × 2\n",
       "\n",
       "| <!--/--> | Sample &lt;int&gt; | Number &lt;int&gt; |\n",
       "|---|---|---|\n",
       "| 1 | 1 | 1 |\n",
       "| 2 | 2 | 3 |\n",
       "| 3 | 3 | 2 |\n",
       "| 4 | 4 | 4 |\n",
       "| 5 | 5 | 4 |\n",
       "| 6 | 6 | 0 |\n",
       "\n"
      ],
      "text/plain": [
       "  Sample Number\n",
       "1 1      1     \n",
       "2 2      3     \n",
       "3 3      2     \n",
       "4 4      4     \n",
       "5 5      4     \n",
       "6 6      0     "
      ]
     },
     "metadata": {},
     "output_type": "display_data"
    }
   ],
   "source": [
    "data = read.table(file = \"mushroom.txt\", header = TRUE)\n",
    "head(data)"
   ]
  },
  {
   "cell_type": "code",
   "execution_count": 14,
   "metadata": {},
   "outputs": [
    {
     "data": {
      "image/png": "[encoded data removed]",
      "text/plain": [
       "Plot with title “Proportion of Positively Tested Mushrooms”"
      ]
     },
     "metadata": {
      "image/png": {
       "height": 420,
       "width": 420
      },
      "text/plain": {
       "height": 420,
       "width": 420
      }
     },
     "output_type": "display_data"
    }
   ],
   "source": [
    "hist(x = data$Number, main = \"Proportion of Positively Tested Mushrooms\",\n",
    "    ylab = \"Number of Mushrooms with Pesticide\", xlab = \"Number of Pesticides\",\n",
    "    breaks = 15, ylim = c(0, 35), right = FALSE)"
   ]
  },
  {
   "cell_type": "markdown",
   "metadata": {},
   "source": [
    "Q3 b) The histogram is rightly skewed and most samples have pesticide values of less than 5, however the range is 15. Since the histogram is rightly skewed, the mean is greater than the median. There is one unusual point which may be an outlier and has 15 pesticides in the sample. The mean and the range are senstive to this value and may not be too reliable, the median however would be a better measure of centrality and the IQR may represent spread more reliably."
   ]
  },
  {
   "cell_type": "markdown",
   "metadata": {},
   "source": [
    "Q3 c) The are multiple sample modes: 1 pesticide and 2 pesticides"
   ]
  },
  {
   "cell_type": "code",
   "execution_count": 7,
   "metadata": {},
   "outputs": [
    {
     "data": {
      "image/png": "[encoded data removed]",
      "text/plain": [
       "Plot with title “Boxplot of Pesticides Found in Mushrooms”"
      ]
     },
     "metadata": {
      "image/png": {
       "height": 420,
       "width": 420
      },
      "text/plain": {
       "height": 420,
       "width": 420
      }
     },
     "output_type": "display_data"
    }
   ],
   "source": [
    "boxplot(data$Number, main = \"Boxplot of Pesticides Found in Mushrooms\",\n",
    "       ylab = \"Number of Pesticides Found\")"
   ]
  },
  {
   "cell_type": "markdown",
   "metadata": {},
   "source": [
    "Q3 d) The 3 horizontal lines in the middle represent the middle 50% of the data. They are known as the Quartiles and in an ordered set of data, the lower one is the first quartile and is above 25% of the data, the middle one is the median and is above 50% of the data, and the upper one is the third quartile and is above 75% of the data."
   ]
  },
  {
   "cell_type": "code",
   "execution_count": 9,
   "metadata": {},
   "outputs": [
    {
     "data": {
      "text/html": [
       "2"
      ],
      "text/latex": [
       "2"
      ],
      "text/markdown": [
       "2"
      ],
      "text/plain": [
       "[1] 2"
      ]
     },
     "metadata": {},
     "output_type": "display_data"
    }
   ],
   "source": [
    "IQR(data$Number)"
   ]
  },
  {
   "cell_type": "markdown",
   "metadata": {},
   "source": [
    "Q3 e) This value is less sensitive to outliers as compared to the range since it only contains the middle 50% of the data hence, the bulk of the data would be in this range ignoring any unusual ouliers."
   ]
  },
  {
   "cell_type": "code",
   "execution_count": 11,
   "metadata": {},
   "outputs": [
    {
     "data": {
      "text/html": [
       "1.98219263044982"
      ],
      "text/latex": [
       "1.98219263044982"
      ],
      "text/markdown": [
       "1.98219263044982"
      ],
      "text/plain": [
       "[1] 1.982193"
      ]
     },
     "metadata": {},
     "output_type": "display_data"
    }
   ],
   "source": [
    "sd(data$Number)"
   ]
  },
  {
   "cell_type": "markdown",
   "metadata": {},
   "source": [
    "Q3 f) This value is sensitive ot outliers as it includes all values in its calculation, including any/all outliers, hence an outlier could increase the value of the standard deviation and show that the data is not as clustered as it really is."
   ]
  }
 ],
 "metadata": {
  "kernelspec": {
   "display_name": "R",
   "language": "R",
   "name": "ir"
  },
  "language_info": {
   "codemirror_mode": "r",
   "file_extension": ".r",
   "mimetype": "text/x-r-source",
   "name": "R",
   "pygments_lexer": "r",
   "version": "4.1.2"
  }
 },
 "nbformat": 4,
 "nbformat_minor": 4
}
