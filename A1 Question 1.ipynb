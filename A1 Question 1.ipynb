{
 "cells": [
  {
   "cell_type": "markdown",
   "metadata": {},
   "source": [
    "Raj Patel. 301383911"
   ]
  },
  {
   "cell_type": "markdown",
   "metadata": {},
   "source": [
    "Q1. a) The target population are the Chinook Salmon in BC"
   ]
  },
  {
   "cell_type": "markdown",
   "metadata": {},
   "source": [
    "Q1 b) The 50 salmon caught in Georgia Strait"
   ]
  },
  {
   "cell_type": "markdown",
   "metadata": {},
   "source": [
    "Q1 c) The sample may not be representive since the fish are caught in Georgia Strait which is a large strait that is a part of BC and having the virus is not a factor that is considered for inclusion in the sample, however only the fish in Georgia Strait are represented; fish caught in other locations are not represented at all and hence the sample may not be representative."
   ]
  },
  {
   "cell_type": "markdown",
   "metadata": {},
   "source": [
    "Q1 d) Variable 1: Presence/Absence of Virus - Qualitative, Categorical, Nominal.\n",
    "      Variable 2: The distance from the nearest commercial fish farm when caught (in km) - Quantitative, Continous.\n",
    "      Variable 3: Rating of the degree of inflammation in the heart muscle tissue - Qualitative, Categorical, Ordinal."
   ]
  }
 ],
 "metadata": {
  "kernelspec": {
   "display_name": "R",
   "language": "R",
   "name": "ir"
  },
  "language_info": {
   "codemirror_mode": "r",
   "file_extension": ".r",
   "mimetype": "text/x-r-source",
   "name": "R",
   "pygments_lexer": "r",
   "version": "3.6.2"
  }
 },
 "nbformat": 4,
 "nbformat_minor": 4
}
