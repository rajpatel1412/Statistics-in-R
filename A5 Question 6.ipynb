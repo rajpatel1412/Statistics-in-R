{
 "cells": [
  {
   "cell_type": "markdown",
   "metadata": {},
   "source": [
    "Raj Patel . 301383911"
   ]
  },
  {
   "cell_type": "code",
   "execution_count": 1,
   "metadata": {},
   "outputs": [
    {
     "data": {
      "text/html": [
       "<table>\n",
       "<caption>A data.frame: 6 × 2</caption>\n",
       "<thead>\n",
       "\t<tr><th></th><th scope=col>Mark</th><th scope=col>Section</th></tr>\n",
       "\t<tr><th></th><th scope=col>&lt;int&gt;</th><th scope=col>&lt;fct&gt;</th></tr>\n",
       "</thead>\n",
       "<tbody>\n",
       "\t<tr><th scope=row>1</th><td>64</td><td>A</td></tr>\n",
       "\t<tr><th scope=row>2</th><td>68</td><td>A</td></tr>\n",
       "\t<tr><th scope=row>3</th><td>86</td><td>A</td></tr>\n",
       "\t<tr><th scope=row>4</th><td>71</td><td>A</td></tr>\n",
       "\t<tr><th scope=row>5</th><td>71</td><td>A</td></tr>\n",
       "\t<tr><th scope=row>6</th><td>87</td><td>A</td></tr>\n",
       "</tbody>\n",
       "</table>\n"
      ],
      "text/latex": [
       "A data.frame: 6 × 2\n",
       "\\begin{tabular}{r|ll}\n",
       "  & Mark & Section\\\\\n",
       "  & <int> & <fct>\\\\\n",
       "\\hline\n",
       "\t1 & 64 & A\\\\\n",
       "\t2 & 68 & A\\\\\n",
       "\t3 & 86 & A\\\\\n",
       "\t4 & 71 & A\\\\\n",
       "\t5 & 71 & A\\\\\n",
       "\t6 & 87 & A\\\\\n",
       "\\end{tabular}\n"
      ],
      "text/markdown": [
       "\n",
       "A data.frame: 6 × 2\n",
       "\n",
       "| <!--/--> | Mark &lt;int&gt; | Section &lt;fct&gt; |\n",
       "|---|---|---|\n",
       "| 1 | 64 | A |\n",
       "| 2 | 68 | A |\n",
       "| 3 | 86 | A |\n",
       "| 4 | 71 | A |\n",
       "| 5 | 71 | A |\n",
       "| 6 | 87 | A |\n",
       "\n"
      ],
      "text/plain": [
       "  Mark Section\n",
       "1 64   A      \n",
       "2 68   A      \n",
       "3 86   A      \n",
       "4 71   A      \n",
       "5 71   A      \n",
       "6 87   A      "
      ]
     },
     "metadata": {},
     "output_type": "display_data"
    }
   ],
   "source": [
    "data = read.table(file = \"marks.txt\", header = TRUE)\n",
    "head(data)"
   ]
  },
  {
   "cell_type": "code",
   "execution_count": 2,
   "metadata": {},
   "outputs": [
    {
     "data": {
      "text/plain": [
       "\n",
       "\tTwo Sample t-test\n",
       "\n",
       "data:  data$Mark[data$Section == \"B\"] and data$Mark[data$Section == \"A\"]\n",
       "t = -2.0438, df = 238, p-value = 0.04208\n",
       "alternative hypothesis: true difference in means is not equal to 0\n",
       "95 percent confidence interval:\n",
       " -4.87701267 -0.08965399\n",
       "sample estimates:\n",
       "mean of x mean of y \n",
       " 67.70000  70.18333 \n"
      ]
     },
     "metadata": {},
     "output_type": "display_data"
    }
   ],
   "source": [
    "t.test(data$Mark[data$Section == \"B\"], data$Mark[data$Section == \"A\"],\n",
    "      alternative = \"two.sided\", mu = 0, var.equal = TRUE)"
   ]
  },
  {
   "cell_type": "code",
   "execution_count": null,
   "metadata": {},
   "outputs": [],
   "source": []
  }
 ],
 "metadata": {
  "kernelspec": {
   "display_name": "R",
   "language": "R",
   "name": "ir"
  },
  "language_info": {
   "codemirror_mode": "r",
   "file_extension": ".r",
   "mimetype": "text/x-r-source",
   "name": "R",
   "pygments_lexer": "r",
   "version": "3.6.2"
  }
 },
 "nbformat": 4,
 "nbformat_minor": 4
}
