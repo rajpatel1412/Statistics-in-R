{
 "cells": [
  {
   "cell_type": "markdown",
   "metadata": {},
   "source": [
    "Raj Patel. 301383911"
   ]
  },
  {
   "cell_type": "code",
   "execution_count": 2,
   "metadata": {},
   "outputs": [
    {
     "data": {
      "text/html": [
       "<table>\n",
       "<caption>A data.frame: 6 × 1</caption>\n",
       "<thead>\n",
       "\t<tr><th></th><th scope=col>diameter</th></tr>\n",
       "\t<tr><th></th><th scope=col>&lt;dbl&gt;</th></tr>\n",
       "</thead>\n",
       "<tbody>\n",
       "\t<tr><th scope=row>1</th><td>3822.9</td></tr>\n",
       "\t<tr><th scope=row>2</th><td>3823.5</td></tr>\n",
       "\t<tr><th scope=row>3</th><td>3827.1</td></tr>\n",
       "\t<tr><th scope=row>4</th><td>3824.1</td></tr>\n",
       "\t<tr><th scope=row>5</th><td>3824.3</td></tr>\n",
       "\t<tr><th scope=row>6</th><td>3827.4</td></tr>\n",
       "</tbody>\n",
       "</table>\n"
      ],
      "text/latex": [
       "A data.frame: 6 × 1\n",
       "\\begin{tabular}{r|l}\n",
       "  & diameter\\\\\n",
       "  & <dbl>\\\\\n",
       "\\hline\n",
       "\t1 & 3822.9\\\\\n",
       "\t2 & 3823.5\\\\\n",
       "\t3 & 3827.1\\\\\n",
       "\t4 & 3824.1\\\\\n",
       "\t5 & 3824.3\\\\\n",
       "\t6 & 3827.4\\\\\n",
       "\\end{tabular}\n"
      ],
      "text/markdown": [
       "\n",
       "A data.frame: 6 × 1\n",
       "\n",
       "| <!--/--> | diameter &lt;dbl&gt; |\n",
       "|---|---|\n",
       "| 1 | 3822.9 |\n",
       "| 2 | 3823.5 |\n",
       "| 3 | 3827.1 |\n",
       "| 4 | 3824.1 |\n",
       "| 5 | 3824.3 |\n",
       "| 6 | 3827.4 |\n",
       "\n"
      ],
      "text/plain": [
       "  diameter\n",
       "1 3822.9  \n",
       "2 3823.5  \n",
       "3 3827.1  \n",
       "4 3824.1  \n",
       "5 3824.3  \n",
       "6 3827.4  "
      ]
     },
     "metadata": {},
     "output_type": "display_data"
    }
   ],
   "source": [
    "data = read.table(file = \"tooling.txt\", header = TRUE)\n",
    "head(data)"
   ]
  },
  {
   "cell_type": "code",
   "execution_count": 3,
   "metadata": {},
   "outputs": [
    {
     "data": {
      "text/plain": [
       "\n",
       "\tOne Sample t-test\n",
       "\n",
       "data:  data\n",
       "t = 0.64744, df = 19, p-value = 0.5251\n",
       "alternative hypothesis: true mean is not equal to 3824\n",
       "95 percent confidence interval:\n",
       " 3823.375 3825.185\n",
       "sample estimates:\n",
       "mean of x \n",
       "  3824.28 \n"
      ]
     },
     "metadata": {},
     "output_type": "display_data"
    }
   ],
   "source": [
    "t.test(data, alternative = \"two.sided\", mu = 3824)"
   ]
  },
  {
   "cell_type": "code",
   "execution_count": null,
   "metadata": {},
   "outputs": [],
   "source": []
  }
 ],
 "metadata": {
  "kernelspec": {
   "display_name": "R",
   "language": "R",
   "name": "ir"
  },
  "language_info": {
   "codemirror_mode": "r",
   "file_extension": ".r",
   "mimetype": "text/x-r-source",
   "name": "R",
   "pygments_lexer": "r",
   "version": "3.6.2"
  }
 },
 "nbformat": 4,
 "nbformat_minor": 4
}
