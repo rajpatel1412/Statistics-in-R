{
 "cells": [
  {
   "cell_type": "markdown",
   "metadata": {},
   "source": [
    "Raj Patel . 301383911"
   ]
  },
  {
   "cell_type": "code",
   "execution_count": 2,
   "metadata": {},
   "outputs": [
    {
     "data": {
      "text/html": [
       "<table>\n",
       "<caption>A data.frame: 6 × 2</caption>\n",
       "<thead>\n",
       "\t<tr><th></th><th scope=col>Weight</th><th scope=col>Diagonal</th></tr>\n",
       "\t<tr><th></th><th scope=col>&lt;dbl&gt;</th><th scope=col>&lt;dbl&gt;</th></tr>\n",
       "</thead>\n",
       "<tbody>\n",
       "\t<tr><th scope=row>1</th><td>242</td><td>4.0200</td></tr>\n",
       "\t<tr><th scope=row>2</th><td>290</td><td>4.3056</td></tr>\n",
       "\t<tr><th scope=row>3</th><td>340</td><td>4.6961</td></tr>\n",
       "\t<tr><th scope=row>4</th><td>363</td><td>4.4555</td></tr>\n",
       "\t<tr><th scope=row>5</th><td>430</td><td>5.1340</td></tr>\n",
       "\t<tr><th scope=row>6</th><td>450</td><td>4.9274</td></tr>\n",
       "</tbody>\n",
       "</table>\n"
      ],
      "text/latex": [
       "A data.frame: 6 × 2\n",
       "\\begin{tabular}{r|ll}\n",
       "  & Weight & Diagonal\\\\\n",
       "  & <dbl> & <dbl>\\\\\n",
       "\\hline\n",
       "\t1 & 242 & 4.0200\\\\\n",
       "\t2 & 290 & 4.3056\\\\\n",
       "\t3 & 340 & 4.6961\\\\\n",
       "\t4 & 363 & 4.4555\\\\\n",
       "\t5 & 430 & 5.1340\\\\\n",
       "\t6 & 450 & 4.9274\\\\\n",
       "\\end{tabular}\n"
      ],
      "text/markdown": [
       "\n",
       "A data.frame: 6 × 2\n",
       "\n",
       "| <!--/--> | Weight &lt;dbl&gt; | Diagonal &lt;dbl&gt; |\n",
       "|---|---|---|\n",
       "| 1 | 242 | 4.0200 |\n",
       "| 2 | 290 | 4.3056 |\n",
       "| 3 | 340 | 4.6961 |\n",
       "| 4 | 363 | 4.4555 |\n",
       "| 5 | 430 | 5.1340 |\n",
       "| 6 | 450 | 4.9274 |\n",
       "\n"
      ],
      "text/plain": [
       "  Weight Diagonal\n",
       "1 242    4.0200  \n",
       "2 290    4.3056  \n",
       "3 340    4.6961  \n",
       "4 363    4.4555  \n",
       "5 430    5.1340  \n",
       "6 450    4.9274  "
      ]
     },
     "metadata": {},
     "output_type": "display_data"
    }
   ],
   "source": [
    "data = read.table(file = \"fishdata.txt\", header = TRUE)\n",
    "head(data)"
   ]
  },
  {
   "cell_type": "code",
   "execution_count": 3,
   "metadata": {},
   "outputs": [
    {
     "data": {
      "text/plain": [
       "\n",
       "\tOne Sample t-test\n",
       "\n",
       "data:  data$Diagonal\n",
       "t = -0.61719, df = 158, p-value = 0.269\n",
       "alternative hypothesis: true mean is less than 4.5\n",
       "95 percent confidence interval:\n",
       "     -Inf 4.638688\n",
       "sample estimates:\n",
       "mean of x \n",
       " 4.417486 \n"
      ]
     },
     "metadata": {},
     "output_type": "display_data"
    }
   ],
   "source": [
    "t.test(data$Diagonal, alternative = \"less\", mu = 4.5)"
   ]
  },
  {
   "cell_type": "code",
   "execution_count": null,
   "metadata": {},
   "outputs": [],
   "source": []
  }
 ],
 "metadata": {
  "kernelspec": {
   "display_name": "R",
   "language": "R",
   "name": "ir"
  },
  "language_info": {
   "codemirror_mode": "r",
   "file_extension": ".r",
   "mimetype": "text/x-r-source",
   "name": "R",
   "pygments_lexer": "r",
   "version": "3.6.2"
  }
 },
 "nbformat": 4,
 "nbformat_minor": 4
}
